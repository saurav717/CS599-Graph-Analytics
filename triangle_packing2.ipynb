{
 "cells": [
  {
   "cell_type": "code",
   "execution_count": 19,
   "source": [
    "import numpy as np\n",
    "import networkx as nx\n",
    "import pandas as pd \n",
    "import matplotlib.pyplot as plt"
   ],
   "outputs": [],
   "metadata": {}
  },
  {
   "cell_type": "markdown",
   "source": [
    "## Useful links regarding assignment, repository and data\n",
    "- data : http://snap.stanford.edu/data/ca-GrQc.html\n",
    "- assignment : https://docs.google.com/presentation/d/1xWByuPJcIubdVqwNmKueawuxsWL0bpvKHAFQ5lRd2VM/edit#slide=id.geec04a3a8b_0_100"
   ],
   "metadata": {}
  },
  {
   "cell_type": "code",
   "execution_count": 20,
   "source": [
    "graph_data = pd.read_csv(\"data.txt\", delimiter = \"\\t\")"
   ],
   "outputs": [],
   "metadata": {}
  },
  {
   "cell_type": "code",
   "execution_count": 21,
   "source": [
    "print(\"total nodes = 5242\")\n",
    "print(\"total edges = 28980\")\n",
    "print()\n",
    "print(\"edge list\")\n",
    "print()\n",
    "print(graph_data.head())"
   ],
   "outputs": [
    {
     "output_type": "stream",
     "name": "stdout",
     "text": [
      "total nodes = 5242\n",
      "total edges = 28980\n",
      "\n",
      "edge list\n",
      "\n",
      "   FromNodeId  ToNodeId\n",
      "0        3466       937\n",
      "1        3466      5233\n",
      "2        3466      8579\n",
      "3        3466     10310\n",
      "4        3466     15931\n"
     ]
    }
   ],
   "metadata": {}
  },
  {
   "cell_type": "markdown",
   "source": [
    "## Creating the graph with colors"
   ],
   "metadata": {}
  },
  {
   "cell_type": "markdown",
   "source": [
    "#### Generating 'K' random colors\n",
    "- Source : https://stackoverflow.com/questions/28999287/generate-random-colors-rgb"
   ],
   "metadata": {}
  },
  {
   "cell_type": "code",
   "execution_count": 13,
   "source": [
    "class triangle_packing:\n",
    "\n",
    "    def __init__(self, data):\n",
    "        self.edge_list = data[\"edge_list\"]\n",
    "        self.nodeIDs = np.unique(list(self.edge_list[\"FromNodeId\"]))\n",
    "\n",
    "        self.num_colors = data[\"K\"]\n",
    "        self.colors = list(range(self.num_colors))\n",
    "        self.shuffle = data[\"shuffle\"]\n",
    "\n",
    "        self.node_colors = None\n",
    "        self.one_colored_edgelist = None\n",
    "        self.packing_init()\n",
    "\n",
    "    def degree_sorted_nodes(self, dictionary): # sorts the nodes in decreasing order of their degrees\n",
    "        return {k: v for k, v in sorted(dictionary.items(), key=lambda item: item[1], reverse = True)}\n",
    "\n",
    "    def check_exhaustion(self, lst1):\n",
    "        lst3 = [value for value in lst1 if value in self.colors]\n",
    "        if(len(lst3)>0):\n",
    "            return \"no\"\n",
    "        elif(len(lst3)==0):\n",
    "            return \"yes\"\n",
    "\n",
    "    def color_nodes(self):\n",
    "        node_colors = dict()\n",
    "        for i in self.nodeIDs:\n",
    "            node_colors[i] = self.colors[i%self.num_colors]\n",
    "            if(len(node_colors)%self.num_colors == 0 and self.shuffle == True):\n",
    "                np.random.shuffle(self.colors)\n",
    "        self.node_colors = node_colors \n",
    "\n",
    "\n",
    "    def chiba_nishizeki(self,data):\n",
    "        graph_data = data[\"edgelist\"] # columns = [FromNodeId, ToNodeId]\n",
    "        graph_data = graph_data[graph_data[\"FromNodeId\"]!=graph_data[\"ToNodeId\"]]\n",
    "        edge_list = graph_data\n",
    "        nodes = np.unique(graph_data[\"FromNodeId\"])\n",
    "        node_degree = dict()\n",
    "        for x in nodes:\n",
    "            node_degree[x] = graph_data[graph_data[\"FromNodeId\"] == x].shape[0]\n",
    "        nodes = self.degree_sorted_nodes(node_degree)\n",
    "        nodeIDs = list(nodes.keys())\n",
    "        triangles = []\n",
    "        for i in range(len(nodeIDs)-2):\n",
    "            node = nodeIDs[i]\n",
    "            node_neighbours = np.unique(list(edge_list[edge_list[\"FromNodeId\"] == node][\"ToNodeId\"]))\n",
    "            marked_nodes = list(node_neighbours)\n",
    "            for neighbour in node_neighbours:\n",
    "                neighbour_neighbours = np.unique(list(edge_list[edge_list[\"FromNodeId\"]==neighbour][\"ToNodeId\"]))\n",
    "                for third_neighbour in neighbour_neighbours:\n",
    "                    if(third_neighbour in marked_nodes):\n",
    "                        triangles.append([node,neighbour,third_neighbour])\n",
    "                        return \"yes\"\n",
    "                marked_nodes.remove(neighbour)\n",
    "            edge_list = edge_list[edge_list[\"FromNodeId\"]!=node]\n",
    "            edge_list = edge_list[edge_list[\"ToNodeId\"]!=node]\n",
    "\n",
    "        # if(len(triangles) > 0):\n",
    "        #     print(\"triangles - \", len(triangles))\n",
    "        #     return \"yes\"\n",
    "        # else:\n",
    "        return \"no\"\n",
    "\n",
    "\n",
    "    def find_triangle(self, color):\n",
    "        one_colored_nodes = [k for k,v in self.node_colors.items() if v == color]\n",
    "        one_colored_edgelist = self.edge_list.loc[self.edge_list['FromNodeId'].isin(one_colored_nodes)]\n",
    "        # one_colored_edgelist = self.edge_list[self.edge_list[\"FromNodeId\"]==one_colored_nodes]\n",
    "        data = {\n",
    "            \"edgelist\" : one_colored_edgelist\n",
    "        }\n",
    "        triangle_found = self.chiba_nishizeki(data)\n",
    "        return triangle_found\n",
    "\n",
    "    def packing(self, colorlist, edgelist):\n",
    "        unexplored_colors = list(set(self.colors) - set(colorlist))\n",
    "        # print(\"len = \",len(unexplored_colors))\n",
    "        if(len(unexplored_colors)==0):\n",
    "            # print(\"ptacking found\")\n",
    "            return \"yes\"\n",
    "        found = None\n",
    "\n",
    "        for color in unexplored_colors:\n",
    "            # one_colored_nodes = [k for k,v in self.node_colors.items() if v == color]\n",
    "            if(self.find_triangle(color) == \"no\"):\n",
    "                # print(\"this happened\")\n",
    "                break\n",
    "            colorlist.append(color)\n",
    "            one_color_nodes = [k for k,v in self.node_colors.items() if v == color]\n",
    "            # updated_edgelist = edgelist[edgelist[\"FromNodeId\"]!=one_color_nodes]\n",
    "            # updated_edgelist = edgelist[edgelist[\"ToNodeId\"]!=one_color_nodes]\n",
    "            found = self.packing(colorlist,edgelist) \n",
    "        \n",
    "        return found\n",
    "\n",
    "\n",
    "    def packing_init(self):\n",
    "        # color_list = self.colors\n",
    "        self.color_nodes()\n",
    "\n",
    "        for color in self.colors:\n",
    "            # print(color)\n",
    "            current_colorlist = []\n",
    "            one_colored_nodes = [k for k,v in self.node_colors.items() if v == color] # we picked one colored nodes\n",
    "            if(self.find_triangle(color) == \"no\"):\n",
    "                break\n",
    "            \n",
    "            current_colorlist.append(color)\n",
    "            one_colored_nodes = [k for k,v in self.node_colors.items() if v == color]\n",
    "            edgelist = self.edge_list\n",
    "            # updated_edgelist = edgelist[edgelist[\"FromNodeId\"]!=one_colored_nodes]\n",
    "            # updated_edgelist = edgelist[edgelist[\"ToNodeId\"]!=one_colored_nodes]\n",
    "            # print(\"this working?\")\n",
    "            if(self.packing(current_colorlist, self.edge_list)==\"yes\"):\n",
    "                print(\"packing found\")\n",
    "                break\n",
    "\n",
    "            else:\n",
    "                print(\"no packing found\")\n",
    "                break\n"
   ],
   "outputs": [],
   "metadata": {}
  },
  {
   "cell_type": "code",
   "execution_count": 14,
   "source": [
    "data = {\n",
    "    \"edge_list\" : graph_data,\n",
    "    \"K\" : 1, \n",
    "    \"shuffle\" : True,\n",
    "}\n",
    "\n",
    "packing = triangle_packing(data)\n",
    "# packing.packing_init()"
   ],
   "outputs": [
    {
     "output_type": "stream",
     "name": "stdout",
     "text": [
      "packing found\n"
     ]
    }
   ],
   "metadata": {}
  },
  {
   "cell_type": "code",
   "execution_count": 15,
   "source": [
    "data = {\n",
    "    \"edge_list\" : graph_data,\n",
    "    \"K\" : 5, \n",
    "    \"shuffle\" : True,\n",
    "}\n",
    "\n",
    "packing = triangle_packing(data)\n",
    "# packing.packing_init()"
   ],
   "outputs": [
    {
     "output_type": "stream",
     "name": "stdout",
     "text": [
      "packing found\n"
     ]
    }
   ],
   "metadata": {}
  },
  {
   "cell_type": "code",
   "execution_count": 16,
   "source": [
    "data = {\n",
    "    \"edge_list\" : graph_data,\n",
    "    \"K\" : 10, \n",
    "    \"shuffle\" : True,\n",
    "}\n",
    "\n",
    "packing = triangle_packing(data)\n",
    "# packing.packing_init()"
   ],
   "outputs": [
    {
     "output_type": "stream",
     "name": "stdout",
     "text": [
      "packing found\n"
     ]
    }
   ],
   "metadata": {}
  },
  {
   "cell_type": "code",
   "execution_count": 17,
   "source": [
    "data = {\n",
    "    \"edge_list\" : graph_data,\n",
    "    \"K\" : 15, \n",
    "    \"shuffle\" : True,\n",
    "}\n",
    "\n",
    "packing = triangle_packing(data)\n",
    "# packing.packing_init()"
   ],
   "outputs": [
    {
     "output_type": "stream",
     "name": "stdout",
     "text": [
      "packing found\n"
     ]
    }
   ],
   "metadata": {}
  },
  {
   "cell_type": "code",
   "execution_count": 18,
   "source": [
    "data = {\n",
    "    \"edge_list\" : graph_data,\n",
    "    \"K\" : 20, \n",
    "    \"shuffle\" : True,\n",
    "}\n",
    "\n",
    "packing = triangle_packing(data)\n",
    "# packing.packing_init()"
   ],
   "outputs": [
    {
     "output_type": "stream",
     "name": "stdout",
     "text": [
      "packing found\n"
     ]
    }
   ],
   "metadata": {}
  }
 ],
 "metadata": {
  "orig_nbformat": 4,
  "language_info": {
   "name": "python",
   "version": "3.9.7",
   "mimetype": "text/x-python",
   "codemirror_mode": {
    "name": "ipython",
    "version": 3
   },
   "pygments_lexer": "ipython3",
   "nbconvert_exporter": "python",
   "file_extension": ".py"
  },
  "kernelspec": {
   "name": "python3",
   "display_name": "Python 3.9.7 64-bit"
  },
  "interpreter": {
   "hash": "b0fa6594d8f4cbf19f97940f81e996739fb7646882a419484c72d19e05852a7e"
  }
 },
 "nbformat": 4,
 "nbformat_minor": 2
}