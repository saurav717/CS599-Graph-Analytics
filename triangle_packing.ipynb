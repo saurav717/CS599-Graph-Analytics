{
 "cells": [
  {
   "cell_type": "code",
   "execution_count": 140,
   "source": [
    "import numpy as np\n",
    "import networkx as nx\n",
    "import pandas as pd\n",
    "import random\n",
    "import matplotlib.pyplot as plt"
   ],
   "outputs": [],
   "metadata": {}
  },
  {
   "cell_type": "markdown",
   "source": [
    "## Useful links regarding assignment, repository and data\n",
    "- data : http://snap.stanford.edu/data/ca-GrQc.html\n",
    "- assignment : https://docs.google.com/presentation/d/1xWByuPJcIubdVqwNmKueawuxsWL0bpvKHAFQ5lRd2VM/edit#slide=id.geec04a3a8b_0_100"
   ],
   "metadata": {}
  },
  {
   "cell_type": "code",
   "execution_count": 12,
   "source": [
    "graph_data = pd.read_csv(\"data.txt\", delimiter = \"\\t\")"
   ],
   "outputs": [],
   "metadata": {}
  },
  {
   "cell_type": "code",
   "execution_count": 22,
   "source": [
    "print(\"total nodes = 5242\")\n",
    "print(\"total edges = 28980\")\n",
    "print()\n",
    "print(\"edge list\")\n",
    "print()\n",
    "print(graph_data.head())"
   ],
   "outputs": [
    {
     "output_type": "stream",
     "name": "stdout",
     "text": [
      "total nodes = 5242\n",
      "total edges = 28980\n",
      "\n",
      "edge list\n",
      "\n",
      "   FromNodeId  ToNodeId\n",
      "0        3466       937\n",
      "1        3466      5233\n",
      "2        3466      8579\n",
      "3        3466     10310\n",
      "4        3466     15931\n"
     ]
    }
   ],
   "metadata": {}
  },
  {
   "cell_type": "markdown",
   "source": [
    "## Creating the graph with colors"
   ],
   "metadata": {}
  },
  {
   "cell_type": "markdown",
   "source": [
    "#### Generating 'K' random colors\n",
    "- Source : https://stackoverflow.com/questions/28999287/generate-random-colors-rgb"
   ],
   "metadata": {}
  },
  {
   "cell_type": "code",
   "execution_count": 122,
   "source": [
    "K = 500\n",
    "colors = list(range(K))\n",
    "print(\"number of colors = \", len(colors))"
   ],
   "outputs": [
    {
     "output_type": "stream",
     "name": "stdout",
     "text": [
      "number of colors =  500\n"
     ]
    }
   ],
   "metadata": {}
  },
  {
   "cell_type": "code",
   "execution_count": 137,
   "source": [
    "nodeIDs = np.unique(graph_data[\"FromNodeId\"])\n",
    "\n",
    "node_colors = dict()\n",
    "color_nodes = dict()\n",
    "\n",
    "for i in nodeIDs:\n",
    "    node_colors[i] = colors[i%K]\n",
    "    if(len(node_colors)%K == 0):\n",
    "        np.random.shuffle(colors)\n",
    "    # color_nodex[i]\n"
   ],
   "outputs": [],
   "metadata": {}
  },
  {
   "cell_type": "code",
   "execution_count": 138,
   "source": [
    "print(\"number of unique colors of nodes = \", len(np.unique(list(node_colors.values()))))"
   ],
   "outputs": [
    {
     "output_type": "stream",
     "name": "stdout",
     "text": [
      "number of unique colors of nodes =  500\n"
     ]
    }
   ],
   "metadata": {}
  },
  {
   "cell_type": "markdown",
   "source": [
    "#### Picking nodes with a single color"
   ],
   "metadata": {}
  },
  {
   "cell_type": "code",
   "execution_count": 139,
   "source": [
    "color_id = colors[0]\n",
    "print(\"color ID = \",color_id)\n",
    "nodes = [k for k,v in node_colors.items() if v == color_id]\n",
    "print(\"the nodes with color = colorID are \")\n",
    "print(nodes)\n",
    "print()\n",
    "print()\n"
   ],
   "outputs": [
    {
     "output_type": "stream",
     "name": "stdout",
     "text": [
      "color ID =  168\n",
      "the nodes with color = colorID are \n",
      "[1668, 6535, 8881, 11066, 11566, 12066, 24371]\n"
     ]
    }
   ],
   "metadata": {}
  },
  {
   "cell_type": "code",
   "execution_count": null,
   "source": [],
   "outputs": [],
   "metadata": {}
  }
 ],
 "metadata": {
  "orig_nbformat": 4,
  "language_info": {
   "name": "python",
   "version": "3.9.7",
   "mimetype": "text/x-python",
   "codemirror_mode": {
    "name": "ipython",
    "version": 3
   },
   "pygments_lexer": "ipython3",
   "nbconvert_exporter": "python",
   "file_extension": ".py"
  },
  "kernelspec": {
   "name": "python3",
   "display_name": "Python 3.9.7 64-bit"
  },
  "interpreter": {
   "hash": "b0fa6594d8f4cbf19f97940f81e996739fb7646882a419484c72d19e05852a7e"
  }
 },
 "nbformat": 4,
 "nbformat_minor": 2
}