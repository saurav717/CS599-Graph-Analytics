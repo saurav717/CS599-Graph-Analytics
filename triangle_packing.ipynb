{
 "cells": [
  {
   "cell_type": "code",
   "execution_count": 1,
   "source": [
    "import numpy as np\n",
    "import networkx as nx\n",
    "import pandas as pd\n",
    "import random \n",
    "import matplotlib.pyplot as plt"
   ],
   "outputs": [],
   "metadata": {}
  },
  {
   "cell_type": "markdown",
   "source": [
    "## Useful links regarding assignment, repository and data\n",
    "- data : http://snap.stanford.edu/data/ca-GrQc.html\n",
    "- assignment : https://docs.google.com/presentation/d/1xWByuPJcIubdVqwNmKueawuxsWL0bpvKHAFQ5lRd2VM/edit#slide=id.geec04a3a8b_0_100"
   ],
   "metadata": {}
  },
  {
   "cell_type": "code",
   "execution_count": 2,
   "source": [
    "graph_data = pd.read_csv(\"data.txt\", delimiter = \"\\t\")"
   ],
   "outputs": [],
   "metadata": {}
  },
  {
   "cell_type": "code",
   "execution_count": 3,
   "source": [
    "print(\"total nodes = 5242\")\n",
    "print(\"total edges = 28980\")\n",
    "print()\n",
    "print(\"edge list\")\n",
    "print()\n",
    "print(graph_data.head())"
   ],
   "outputs": [
    {
     "output_type": "stream",
     "name": "stdout",
     "text": [
      "total nodes = 5242\n",
      "total edges = 28980\n",
      "\n",
      "edge list\n",
      "\n",
      "   FromNodeId  ToNodeId\n",
      "0        3466       937\n",
      "1        3466      5233\n",
      "2        3466      8579\n",
      "3        3466     10310\n",
      "4        3466     15931\n"
     ]
    }
   ],
   "metadata": {}
  },
  {
   "cell_type": "markdown",
   "source": [
    "## Creating the graph with colors"
   ],
   "metadata": {}
  },
  {
   "cell_type": "markdown",
   "source": [
    "#### Generating 'K' random colors\n",
    "- Source : https://stackoverflow.com/questions/28999287/generate-random-colors-rgb"
   ],
   "metadata": {}
  },
  {
   "cell_type": "markdown",
   "source": [
    "#### Picking nodes with a single color"
   ],
   "metadata": {}
  },
  {
   "cell_type": "markdown",
   "source": [
    "## Applying Chiba-Nishizeki Algorithm\n",
    "\n",
    "- Paper : http://www.ecei.tohoku.ac.jp/alg/nishizeki/sub/j/DVD/PDF_J/J053.pdf\n",
    "- we apply the algorithm to find the number of triangles "
   ],
   "metadata": {}
  },
  {
   "cell_type": "markdown",
   "source": [
    "![chiba nishizeki algorithm](cn.png)"
   ],
   "metadata": {}
  },
  {
   "cell_type": "markdown",
   "source": [
    "#### Picking nodes of same color"
   ],
   "metadata": {}
  },
  {
   "cell_type": "code",
   "execution_count": 4,
   "source": [
    "\n",
    "def degree_sorted_nodes(dictionary): # sorts the nodes in decreasing order of their degrees\n",
    "    return {k: v for k, v in sorted(dictionary.items(), key=lambda item: item[1], reverse = True)}\n",
    "\n",
    "\n",
    "def delete_nodes(edge_list, nodes): #deletes the nodes from the edgelist\n",
    "    for node in nodes:\n",
    "        edge_list[edge_list[\"FromNodeId\"] != node]\n",
    "        edge_list[edge_list[\"ToNodeId\"]   != node]\n",
    "    return edge_list\n",
    "\n",
    "\n",
    "def get_subgraph_edgelist(data):    \n",
    "    edge_list     = data[\"edge list of graph\"]\n",
    "    nodes         = data[\"degree sorted nodes\"]\n",
    "    subgraph      = edge_list.loc[edge_list['FromNodeId'].isin(list(nodes.keys()))] \n",
    "    data[\"one color edge list of graph\"] = subgraph.loc[subgraph['ToNodeId'].isin(list(nodes.keys()))]\n",
    "    return data\n",
    "\n",
    "def check_triangle(data):\n",
    "    fn_edgelist     = data[\"first neighbour edgelist\"]\n",
    "    first_neighbour = data[\"first neighbour\"]\n",
    "    current_node    = data[\"current node\"]\n",
    "    edgelist        = data[\"same color edgelist\"]\n",
    "    deleted_nodes   = data[\"deleted nodes\"]\n",
    "\n",
    "    second_neighbours = list(fn_edgelist[fn_edgelist[\"FromNodeId\"]==first_neighbour][\"ToNodeId\"])\n",
    "\n",
    "    for second_neighbour in second_neighbours:\n",
    "        if(second_neighbour not in deleted_nodes and second_neighbour != current_node and second_neighbour != first_neighbour):\n",
    "            second_neighbour_edgelist = list(edgelist[edgelist[\"FromNodeId\"]==second_neighbour][\"ToNodeId\"])\n",
    "\n",
    "            if(current_node in second_neighbour_edgelist):\n",
    "                data[\"second neighbour\"] = second_neighbour\n",
    "\n",
    "                return data, \"yes\"\n",
    "\n",
    "    return data, \"no\"\n",
    "\n",
    "def update_nodeIDs(nodeIDs, data):\n",
    "    nodeIDs.remove(data[\"first neighbour\"])\n",
    "    nodeIDs.remove(data[\"second neighbour\"])\n",
    "    nodeIDs.remove(data[\"current node\"])\n",
    "    return nodeIDs\n",
    "\n",
    "\n",
    "def find_triangles_oneColor(data):                         # finds triangles in one color nodes\n",
    "\n",
    "    edge_list     = data[\"one color edge list of graph\"]   # (dataframe : \"FromNodeId\", \"ToNodeId\")       --- edgelist of the one colored nodes\n",
    "    nodes         = data[\"degree sorted nodes\"]            # (key : nodeID, Value : Degree of the node)   --- nodes of one single color\n",
    "\n",
    "    count_triangles = 0\n",
    "    deleted_nodes = []                                     # list of nodes deleted as they are part of some triangle\n",
    "\n",
    "    print(\"total nodes = \", len(nodes))\n",
    "    nodeIDs = list(nodes.keys())\n",
    "\n",
    "    data2 = dict()\n",
    "    for node in nodeIDs:                                   # exploring each node\n",
    "        node_neighbours = list(edge_list[edge_list[\"FromNodeId\"] == node][\"ToNodeId\"])\n",
    "        if(node not in deleted_nodes):\n",
    " \n",
    "            for first_neighbour in node_neighbours:        # exploring neighbours of same color. \n",
    "                if(first_neighbour not in deleted_nodes and first_neighbour != node):\n",
    "                    one_node_edgelist = edge_list[edge_list[\"FromNodeId\"]==first_neighbour]\n",
    "    \n",
    "                    data2[\"first neighbour edgelist\"] = one_node_edgelist   \n",
    "                    data2[\"current node\"]             = node \n",
    "                    data2[\"first neighbour\"]          = first_neighbour\n",
    "                    data2[\"same color edgelist\"]      = edge_list\n",
    "                    data2[\"deleted nodes\"]            = deleted_nodes\n",
    "\n",
    "                    data2, triangle_found = check_triangle(data2)\n",
    "\n",
    "                    if(triangle_found ==\"yes\"):\n",
    "                        deleted_nodes.append(data2[\"current node\"])\n",
    "                        deleted_nodes.append(data2[\"first neighbour\"])\n",
    "                        deleted_nodes.append(data2[\"second neighbour\"])\n",
    "\n",
    "                        # print(\"\\n current node = \", data2[\"current node\"])\n",
    "                        # print(\"first neighbour  = \", data2[\"first neighbour\"])\n",
    "                        # print(\"second neighbour = \", data2[\"second neighbour\"])\n",
    "\n",
    "                        nodeIDs = update_nodeIDs(nodeIDs, data2)\n",
    "                        count_triangles+=1\n",
    "\n",
    "                        break\n",
    "    \n",
    "    print(\"triangle count in this colored nodes = \", count_triangles)\n",
    "    return count_triangles\n",
    "    # print(\"deleted nodes = \", deleted_nodes)\n",
    "\n",
    "    # contains_duplicates = [x for i, x in enumerate(deleted_nodes) if i != deleted_nodes.index(x)]\n",
    "    # print(\"number of duplicate nodes = \",contains_duplicates) \n"
   ],
   "outputs": [],
   "metadata": {}
  },
  {
   "cell_type": "code",
   "execution_count": 5,
   "source": [
    "def check_subgraph_colors(data):\n",
    "    edgelist  = data[\"one color edge list of graph\"]\n",
    "    node_list = list(data[\"degree sorted nodes\"].keys())\n",
    "\n",
    "    from_nodes = list(edgelist[\"FromNodeId\"])\n",
    "    to_nodes   = list(edgelist[\"ToNodeId\"])\n",
    "\n",
    "    for i in from_nodes:\n",
    "        if(i not in node_list):\n",
    "            print(\"nodes are not of same color\")\n",
    "            return\n",
    "\n",
    "    for i in to_nodes:\n",
    "        if(i not in node_list):\n",
    "            print(\"nodes are not of same color\")\n",
    "            return\n",
    "\n",
    "    # print(\"nodes are of same color\")\n",
    "\n",
    "def get_color_distribution(colors, node_colors):\n",
    "    node_dist = []\n",
    "    for i in range(len(colors)):\n",
    "        nodes = [k for k,v in node_colors.items() if v == colors[i]]\n",
    "        node_dist.append(len(nodes))\n",
    "\n",
    "    plt.title(\"distribution of number of nodes with different colors\")\n",
    "    plt.bar(colors,node_dist)"
   ],
   "outputs": [],
   "metadata": {}
  },
  {
   "cell_type": "code",
   "execution_count": 6,
   "source": [
    "def triangle_packing(data):\n",
    "\n",
    "    graph_data = data[\"edgelist\"]\n",
    "    num_colors = data[\"K\"]\n",
    "    count_triangles = 0\n",
    "    colors = list(range(num_colors))\n",
    "\n",
    "    nodeIDs = np.unique(graph_data[\"FromNodeId\"])\n",
    "\n",
    "    node_colors = dict()\n",
    "\n",
    "    for i in nodeIDs:\n",
    "        node_colors[i] = colors[i%num_colors]\n",
    "        if(len(node_colors)%num_colors == 0 and data[\"shuffle\"] == True):\n",
    "            np.random.shuffle(colors)\n",
    "\n",
    "    get_color_distribution(colors, node_colors)\n",
    "\n",
    "    for color in colors:\n",
    "        color_id = color\n",
    "        # print(\"color ID = \",color_id)\n",
    "\n",
    "        one_color_nodes = [k for k,v in node_colors.items() if v == color_id]\n",
    "        # print(\"total nodes in this color = \", len(one_color_nodes), \"\\n\")\n",
    "\n",
    "        c1_node_degree = dict()\n",
    "        for x in one_color_nodes:\n",
    "            c1_node_degree[x] = graph_data[graph_data[\"FromNodeId\"] == x].shape[0]\n",
    "\n",
    "        sorted_node_degree = degree_sorted_nodes(c1_node_degree)\n",
    "        # nodes are now sorted based on their degrees\n",
    "        # Need edge list of nodes of same color. We have node IDs of same color nodes.\n",
    "\n",
    "        data1 = {\n",
    "                    \"degree sorted nodes\" : sorted_node_degree, \n",
    "                    \"edge list of graph\"  : graph_data\n",
    "                }\n",
    "\n",
    "        data1 = get_subgraph_edgelist(data1)\n",
    "        one_color_edgelist = data1[\"one color edge list of graph\"]\n",
    "\n",
    "        check_subgraph_colors(data1)\n",
    "        count_triangles += find_triangles_oneColor(data1)\n",
    "\n",
    "    print(\"_____________________________________________________\")\n",
    "    print(\"total triangles = \",count_triangles)\n",
    "    print(\"_____________________________________________________\")\n"
   ],
   "outputs": [],
   "metadata": {}
  },
  {
   "cell_type": "code",
   "execution_count": 11,
   "source": [
    "data = {\n",
    "        \"edgelist\" : graph_data,\n",
    "        \"K\"        : 30,\n",
    "        \"shuffle\"  : True\n",
    "        }\n",
    "\n",
    "triangle_packing(data)\n"
   ],
   "outputs": [
    {
     "output_type": "stream",
     "name": "stdout",
     "text": [
      "total nodes =  170\n",
      "triangle count in this colored nodes =  1\n",
      "total nodes =  188\n",
      "triangle count in this colored nodes =  1\n",
      "total nodes =  175\n",
      "triangle count in this colored nodes =  0\n",
      "total nodes =  191\n",
      "triangle count in this colored nodes =  1\n",
      "total nodes =  161\n",
      "triangle count in this colored nodes =  1\n",
      "total nodes =  171\n",
      "triangle count in this colored nodes =  0\n",
      "total nodes =  167\n",
      "triangle count in this colored nodes =  1\n",
      "total nodes =  159\n",
      "triangle count in this colored nodes =  0\n",
      "total nodes =  147\n",
      "triangle count in this colored nodes =  1\n",
      "total nodes =  202\n",
      "triangle count in this colored nodes =  2\n",
      "total nodes =  176\n",
      "triangle count in this colored nodes =  1\n",
      "total nodes =  187\n",
      "triangle count in this colored nodes =  0\n",
      "total nodes =  177\n",
      "triangle count in this colored nodes =  0\n",
      "total nodes =  162\n",
      "triangle count in this colored nodes =  0\n",
      "total nodes =  173\n",
      "triangle count in this colored nodes =  1\n",
      "total nodes =  180\n",
      "triangle count in this colored nodes =  1\n",
      "total nodes =  187\n",
      "triangle count in this colored nodes =  2\n",
      "total nodes =  172\n",
      "triangle count in this colored nodes =  0\n",
      "total nodes =  177\n",
      "triangle count in this colored nodes =  1\n",
      "total nodes =  161\n",
      "triangle count in this colored nodes =  1\n",
      "total nodes =  172\n",
      "triangle count in this colored nodes =  0\n",
      "total nodes =  166\n",
      "triangle count in this colored nodes =  1\n",
      "total nodes =  191\n",
      "triangle count in this colored nodes =  2\n",
      "total nodes =  155\n",
      "triangle count in this colored nodes =  0\n",
      "total nodes =  202\n",
      "triangle count in this colored nodes =  2\n",
      "total nodes =  197\n",
      "triangle count in this colored nodes =  2\n",
      "total nodes =  163\n",
      "triangle count in this colored nodes =  1\n",
      "total nodes =  173\n",
      "triangle count in this colored nodes =  2\n",
      "total nodes =  181\n",
      "triangle count in this colored nodes =  0\n",
      "total nodes =  159\n",
      "triangle count in this colored nodes =  1\n",
      "_____________________________________________________\n",
      "total triangles =  26\n",
      "_____________________________________________________\n"
     ]
    },
    {
     "output_type": "display_data",
     "data": {
      "image/png": "[encoded data removed]",
      "text/plain": [
       "<Figure size 432x288 with 1 Axes>"
      ]
     },
     "metadata": {
      "needs_background": "light"
     }
    }
   ],
   "metadata": {}
  },
  {
   "cell_type": "code",
   "execution_count": null,
   "source": [],
   "outputs": [],
   "metadata": {}
  }
 ],
 "metadata": {
  "orig_nbformat": 4,
  "language_info": {
   "name": "python",
   "version": "3.9.7",
   "mimetype": "text/x-python",
   "codemirror_mode": {
    "name": "ipython",
    "version": 3
   },
   "pygments_lexer": "ipython3",
   "nbconvert_exporter": "python",
   "file_extension": ".py"
  },
  "kernelspec": {
   "name": "python3",
   "display_name": "Python 3.9.7 64-bit"
  },
  "interpreter": {
   "hash": "b0fa6594d8f4cbf19f97940f81e996739fb7646882a419484c72d19e05852a7e"
  }
 },
 "nbformat": 4,
 "nbformat_minor": 2
}