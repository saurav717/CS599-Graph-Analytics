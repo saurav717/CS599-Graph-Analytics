{
 "cells": [
  {
   "cell_type": "code",
   "execution_count": 1,
   "source": [
    "import numpy as np\n",
    "import networkx as nx\n",
    "import pandas as pd\n",
    "import matplotlib.pyplot as plt"
   ],
   "outputs": [],
   "metadata": {}
  },
  {
   "cell_type": "markdown",
   "source": [
    "## Useful links regarding assignment, repository and data\n",
    "- data : http://snap.stanford.edu/data/ca-GrQc.html\n",
    "- assignment : https://docs.google.com/presentation/d/1xWByuPJcIubdVqwNmKueawuxsWL0bpvKHAFQ5lRd2VM/edit#slide=id.geec04a3a8b_0_100"
   ],
   "metadata": {}
  },
  {
   "cell_type": "code",
   "execution_count": 2,
   "source": [
    "gqrc = pd.read_csv(\"data.txt\", delimiter = \"\\t\")"
   ],
   "outputs": [],
   "metadata": {}
  },
  {
   "cell_type": "code",
   "execution_count": 3,
   "source": [
    "information = {\n",
    "\"total nodes\" : 5242,\n",
    "\"total edges\" : 28980, \n",
    "\"total triangles\" : 48260\n",
    "}\n",
    "print(\"total nodes = 5242\")\n",
    "print(\"total edges = 28980\")\n",
    "print(\"total triangles = 48260\")\n",
    "print()\n",
    "print(\"edge list\")\n",
    "print()\n",
    "print(gqrc.head())"
   ],
   "outputs": [
    {
     "output_type": "stream",
     "name": "stdout",
     "text": [
      "total nodes = 5242\n",
      "total edges = 28980\n",
      "total triangles = 48260\n",
      "\n",
      "edge list\n",
      "\n",
      "   FromNodeId  ToNodeId\n",
      "0        3466       937\n",
      "1        3466      5233\n",
      "2        3466      8579\n",
      "3        3466     10310\n",
      "4        3466     15931\n"
     ]
    }
   ],
   "metadata": {}
  },
  {
   "cell_type": "markdown",
   "source": [
    "## Applying Chiba-Nishizeki Algorithm\n",
    "\n",
    "- Paper : http://www.ecei.tohoku.ac.jp/alg/nishizeki/sub/j/DVD/PDF_J/J053.pdf\n",
    "- we apply the algorithm to find the number of triangles "
   ],
   "metadata": {}
  },
  {
   "cell_type": "markdown",
   "source": [
    "![chiba nishizeki algorithm](cn.png)"
   ],
   "metadata": {}
  },
  {
   "cell_type": "markdown",
   "source": [
    "#### Picking nodes of same color"
   ],
   "metadata": {}
  },
  {
   "cell_type": "code",
   "execution_count": 4,
   "source": [
    "def degree_sorted_nodes(dictionary): # sorts the nodes in decreasing order of their degrees\n",
    "    return {k: v for k, v in sorted(dictionary.items(), key=lambda item: item[1], reverse = True)}\n",
    "\n",
    "\n",
    "def chiba_nishizeki(data):\n",
    "\n",
    "    graph_data = data[\"edgelist\"] # columns = [FromNodeId, ToNodeId]\n",
    "    graph_data = graph_data[graph_data[\"FromNodeId\"]!=graph_data[\"ToNodeId\"]]\n",
    "    edge_list = graph_data\n",
    "    nodes = np.unique(graph_data[\"FromNodeId\"])\n",
    "    node_degree = dict()\n",
    "    for x in nodes:\n",
    "        node_degree[x] = graph_data[graph_data[\"FromNodeId\"] == x].shape[0]\n",
    "    nodes = degree_sorted_nodes(node_degree)\n",
    "    nodeIDs = list(nodes.keys())\n",
    "    triangles = []\n",
    "    for i in range(len(nodeIDs)-2):\n",
    "        node = nodeIDs[i]\n",
    "        node_neighbours = np.unique(list(edge_list[edge_list[\"FromNodeId\"] == node][\"ToNodeId\"]))\n",
    "        marked_nodes = list(node_neighbours)\n",
    "        for neighbour in node_neighbours:\n",
    "            neighbour_neighbours = np.unique(list(edge_list[edge_list[\"FromNodeId\"]==neighbour][\"ToNodeId\"]))\n",
    "            for third_neighbour in neighbour_neighbours:\n",
    "                if(third_neighbour in marked_nodes):\n",
    "                    triangles.append([node,neighbour,third_neighbour])\n",
    "            marked_nodes.remove(neighbour)\n",
    "        edge_list = edge_list[edge_list[\"FromNodeId\"]!=node]\n",
    "        edge_list = edge_list[edge_list[\"ToNodeId\"]!=node]\n",
    "\n",
    "\n",
    "\n",
    "\n",
    "    print(\"_____________________________________________________\")\n",
    "    print(\"total triangles = \",len(triangles))\n",
    "    print(\"_____________________________________________________\")\n"
   ],
   "outputs": [],
   "metadata": {}
  },
  {
   "cell_type": "code",
   "execution_count": 5,
   "source": [
    "data = {\n",
    "        \"edgelist\" : gqrc,\n",
    "        }\n",
    "        \n",
    "\n",
    "chiba_nishizeki(data)\n"
   ],
   "outputs": [
    {
     "output_type": "stream",
     "name": "stdout",
     "text": [
      "_____________________________________________________\n",
      "total triangles =  48260\n",
      "_____________________________________________________\n"
     ]
    }
   ],
   "metadata": {}
  }
 ],
 "metadata": {
  "orig_nbformat": 4,
  "language_info": {
   "name": "python",
   "version": "3.9.7",
   "mimetype": "text/x-python",
   "codemirror_mode": {
    "name": "ipython",
    "version": 3
   },
   "pygments_lexer": "ipython3",
   "nbconvert_exporter": "python",
   "file_extension": ".py"
  },
  "kernelspec": {
   "name": "python3",
   "display_name": "Python 3.9.7 64-bit"
  },
  "interpreter": {
   "hash": "b0fa6594d8f4cbf19f97940f81e996739fb7646882a419484c72d19e05852a7e"
  }
 },
 "nbformat": 4,
 "nbformat_minor": 2
}