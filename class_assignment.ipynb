{
 "cells": [
  {
   "cell_type": "code",
   "execution_count": 1,
   "source": [
    "import numpy as np\n",
    "import pandas as pd\n",
    "import mmh3\n",
    "import random"
   ],
   "outputs": [],
   "metadata": {}
  },
  {
   "cell_type": "markdown",
   "source": [
    "#### Implementing F0 - distinct element problem\n",
    "- Flajolet Martin\n",
    "- AMS sketch for F2\n",
    "\n",
    "For hash functions \n",
    "- 2-wise hash functions\n",
    "- we can import Murmur hash function\n",
    "- other crypto has functions"
   ],
   "metadata": {}
  },
  {
   "cell_type": "markdown",
   "source": [
    "to find the length of number of trailing ones\n",
    "    - X is a bitstring\n",
    "- ~X and (X+1) = R(x)"
   ],
   "metadata": {}
  },
  {
   "cell_type": "code",
   "execution_count": 2,
   "source": [
    "def binary(hash):\n",
    "    return (~hash & (hash+1))\n",
    "    \n",
    "def Flajolet_matrin(input_stream):\n",
    "    hashes = {}\n",
    "    max_ = -1\n",
    "    for i in range(len(input_stream)):\n",
    "        if(binary(mmh3.hash(input_stream[i]))>max_):\n",
    "            max_ = binary(mmh3.hash(input_stream[i]))\n",
    "    return max_"
   ],
   "outputs": [],
   "metadata": {}
  },
  {
   "cell_type": "code",
   "execution_count": 3,
   "source": [
    "random_generator = np.random.RandomState()\n",
    "input_stream = random_generator.uniform(0,20,10000) # generating a stream of 100 random numbers\n",
    "Flajolet_matrin(input_stream)"
   ],
   "outputs": [
    {
     "output_type": "execute_result",
     "data": {
      "text/plain": [
       "16384"
      ]
     },
     "metadata": {},
     "execution_count": 3
    }
   ],
   "metadata": {}
  },
  {
   "cell_type": "markdown",
   "source": [
    "## AMS Sketch"
   ],
   "metadata": {}
  },
  {
   "cell_type": "markdown",
   "source": [
    "- Parameters : epsilon, ∂\n",
    "\n",
    "- space complexity : O( (1/e**2) * (1/∂) ) \n",
    "\n",
    "- guarantee of the estimate within range 'e' with probability (1 - ∂) "
   ],
   "metadata": {}
  }
 ],
 "metadata": {
  "orig_nbformat": 4,
  "language_info": {
   "name": "python",
   "version": "3.9.7",
   "mimetype": "text/x-python",
   "codemirror_mode": {
    "name": "ipython",
    "version": 3
   },
   "pygments_lexer": "ipython3",
   "nbconvert_exporter": "python",
   "file_extension": ".py"
  },
  "kernelspec": {
   "name": "python3",
   "display_name": "Python 3.9.7 64-bit"
  },
  "interpreter": {
   "hash": "b0fa6594d8f4cbf19f97940f81e996739fb7646882a419484c72d19e05852a7e"
  }
 },
 "nbformat": 4,
 "nbformat_minor": 2
}